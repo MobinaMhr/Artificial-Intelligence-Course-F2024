{
 "cells": [
  {
   "cell_type": "markdown",
   "id": "935cd274",
   "metadata": {},
   "source": [
    "# Genetics and Curve Fitting for Polynomial Equations"
   ]
  },
  {
   "cell_type": "markdown",
   "id": "6baeb853",
   "metadata": {},
   "source": [
    "<html>\n",
    "<div>\n",
    "  <span style=\"font-family: Poppins; font-size:30px; color: black;\"> <br/> University of Tehran <br/>\n",
    "</div>\n",
    "<span style=\"font-family: Poppins; font-size:15pt; color: black; vertical-align: middle;\"> Mobina Mehrazar </span><br>\n",
    "<span style=\"font-family: Poppins; font-size:15pt; color: black; vertical-align: middle;\"> 810100216 </span>\n",
    "\n",
    "</html>"
   ]
  },
  {
   "cell_type": "markdown",
   "id": "7a73abca",
   "metadata": {},
   "source": [
    "### Problem Description"
   ]
  },
  {
   "cell_type": "markdown",
   "id": "508b31cf",
   "metadata": {},
   "source": [
    "In this project, the primary objective is to leverage a genetic algorithm to tackle the challenge of fitting a polynomial curve to a set of provided data points. The genetic algorithm is utilized to determine the optimal coefficients of the polynomial equation based on the available data. The goal is to use the genetic algorithm as a computational approach to establish a mathematical relationship between an independent variable (x) and a dependent variable (y) by iteratively evolving and selecting candidate solutions, ultimately arriving at the best-fitting polynomial equation that accurately models the data."
   ]
  },
  {
   "cell_type": "code",
   "execution_count": 1,
   "id": "8d759c65",
   "metadata": {},
   "outputs": [],
   "source": [
    "from typing import NamedTuple, List\n",
    "import random\n",
    "import copy\n",
    "import sys\n",
    "import numpy as np\n",
    "import matplotlib.pyplot as plt"
   ]
  },
  {
   "cell_type": "markdown",
   "id": "5c6606df",
   "metadata": {},
   "source": [
    "+ typing.NamedTuple allows you to define simple classes with named fields.\n",
    "+ List is used to specify the type of certain variables, indicating that they should be lists of a particular data type.\n",
    "+ The random module provides functions for generating random numbers and making random selections.\n",
    "+ The copy module provides functions for creating shallow and deep copies of objects in Python.\n",
    "+ The sys library is imported to write in file.\n",
    "+ NumPy is a powerful library for numerical computations in Python. It provides support for arrays, matrices, and mathematical functions.\n",
    "+ Matplotlib is a popular library for creating data visualizations in Python."
   ]
  },
  {
   "cell_type": "markdown",
   "id": "4c90cc34",
   "metadata": {},
   "source": [
    "# part one : Defining Basic Concepts"
   ]
  },
  {
   "cell_type": "code",
   "execution_count": 2,
   "id": "55d4c02f",
   "metadata": {},
   "outputs": [],
   "source": [
    "class Consts(NamedTuple):\n",
    "    maxGenerations: int\n",
    "    populationSize: int\n",
    "    coefficientRange: tuple\n",
    "    polynomialDegree: int\n",
    "    eliteSelectionProbability: float\n",
    "    crossoverProbability: float\n",
    "    mutationProbability: float\n",
    "    flipProbability: float"
   ]
  },
  {
   "cell_type": "markdown",
   "id": "cb6c9e30",
   "metadata": {},
   "source": [
    "For enhanced code clarity and error reduction, a dedicated class for constants has been introduced. This class serves as a repository for essential values used throughout the execution of the genetic algorithm. By centralizing these constants, it not only fosters readability but also ensures that parameters are consistently and comprehensibly employed during the genetic algorithm's runtime."
   ]
  },
  {
   "cell_type": "code",
   "execution_count": 3,
   "id": "ae3c4b30",
   "metadata": {},
   "outputs": [],
   "source": [
    "class Chromosome:\n",
    "    def __init__(self, _coeff):\n",
    "        self.coefficients: List[int] = _coeff\n",
    "        self.degree: int = len(_coeff)\n",
    "        self.fitness: int = 0\n",
    "    \n",
    "    def evaluatePolynomial(self, x):\n",
    "        return np.polyval(self.coefficients, x)\n",
    "    \n",
    "    def calculateFitness(self, trainingData):\n",
    "        predicted = self.evaluatePolynomial([point[0] for point in trainingData])\n",
    "        difference = [abs(predicted[i] - trainingData[i][1]) for i in range(len(trainingData))]\n",
    "        self.fitness = 1 / (1 + sum(difference))\n",
    "        return self.fitness"
   ]
  },
  {
   "cell_type": "markdown",
   "id": "67cf97ec",
   "metadata": {},
   "source": [
    "The Chromosome class is a fundamental component of the genetic algorithm. Each instance of this class represents a potential solution, or an individual within the population. It encapsulates critical attributes, including the coefficients of a polynomial equation, the degree of the polynomial, and the fitness score. These attributes play a pivotal role in the genetic algorithm's ability to adapt and evolve solutions.\n",
    "+ The evaluatePolynomial method within the Chromosome class is responsible for calculating the predicted values of the polynomial equation based on the provided coefficients.\n",
    "+ The calculateFitness method quantifies the fitness of the Chromosome by comparing the predicted values with the actual training data. The resulting fitness score represents the quality of the polynomial as a solution."
   ]
  },
  {
   "cell_type": "code",
   "execution_count": 4,
   "id": "6564238e",
   "metadata": {},
   "outputs": [],
   "source": [
    "def generateRandomCoefficient(consts):\n",
    "    return random.randint(consts.coefficientRange[0], consts.coefficientRange[1]);"
   ]
  },
  {
   "cell_type": "markdown",
   "id": "e23ee848",
   "metadata": {},
   "source": [
    "This is a function to generate random integer for polynomial coefficient."
   ]
  },
  {
   "cell_type": "code",
   "execution_count": 5,
   "id": "8de3934c",
   "metadata": {},
   "outputs": [],
   "source": [
    "def adjust_polynomial_degree(chromosome, constants):\n",
    "    while chromosome.coefficients[0] == 0:\n",
    "        chromosome.coefficients[0] = generateRandomCoefficient(constants)"
   ]
  },
  {
   "cell_type": "markdown",
   "id": "745cc5ab",
   "metadata": {},
   "source": [
    "This function modifies the polynomial degree of a chromosome to match the desired degree."
   ]
  },
  {
   "cell_type": "markdown",
   "id": "94a8f6a7",
   "metadata": {},
   "source": [
    "\n"
   ]
  },
  {
   "cell_type": "markdown",
   "id": "ec129151",
   "metadata": {},
   "source": [
    "# part two : Generating Initial Population"
   ]
  },
  {
   "cell_type": "code",
   "execution_count": 6,
   "id": "08afc06e",
   "metadata": {},
   "outputs": [],
   "source": [
    "def initializePopulation(consts, trainingData):\n",
    "    population: list[Chromosome] = [None] * consts.populationSize\n",
    "    for index in range(consts.populationSize):\n",
    "        coeff = [generateRandomCoefficient(consts) for _ in range(consts.polynomialDegree+1)]\n",
    "        population[index] = Chromosome(coeff)\n",
    "        adjust_polynomial_degree(population[index], consts)\n",
    "    evaluateFitness(population, trainingData)\n",
    "    return population"
   ]
  },
  {
   "cell_type": "markdown",
   "id": "9c082f01",
   "metadata": {},
   "source": [
    "Its primary purpose is to create the initial population of potential solutions (represented by instances of the Chromosome class) from which the genetic algorithm will evolve and select candidates.\n",
    "\n",
    "This function takes as input the consts object, which encapsulates the algorithm's parameters, and the trainingData representing the observed data points. Using these parameters, the function initializes a population of Chromosomes. \n",
    "\n",
    "The function iterates over the population size specified in the consts and generates random coefficients within the provided coefficient range. It ensures that the coefficients are appropriately initialized and do not have a zero value for the highest-degree term. This step helps diversify the initial population. The evaluateFitness function is called to calculate the fitness of each Chromosome within the newly created population."
   ]
  },
  {
   "cell_type": "markdown",
   "id": "b040f00f",
   "metadata": {},
   "source": [
    "# part three : Implementation and Specification of the Fitness Function"
   ]
  },
  {
   "cell_type": "markdown",
   "id": "a68b8480",
   "metadata": {},
   "source": [
    "The fitness function is defined as:\n",
    "\n",
    "$$ \\frac{1}{1 + |chromosome - goal|}$$\n",
    "\n",
    "    \"Chromosome\" represents a set of coefficients used to define a mathematical curve.\n",
    "    \"Goal\" is a target value or desired outcome.\n",
    "The fitness value is determined by the formula, and it has a range between 0 and 1.\n",
    "\n",
    "The primary characteristic of this fitness function is that it quantifies how well the curve, defined by the coefficients in the \"chromosome,\" matches the \"goal.\" A fitness of 1 indicates a perfect fit, meaning that the curve generated by the chromosome perfectly aligns with the desired outcome, resulting in zero error. As the fitness value approaches 0, it indicates a poorer fit between the curve and the goal."
   ]
  },
  {
   "cell_type": "code",
   "execution_count": 7,
   "id": "1632b9dc",
   "metadata": {},
   "outputs": [],
   "source": [
    "def evaluateFitness(population, trainingData):\n",
    "    for chromo in population:\n",
    "        if chromo.calculateFitness(trainingData) == 1:\n",
    "            return chromo\n",
    "    return chromo"
   ]
  },
  {
   "cell_type": "markdown",
   "id": "cc358d21",
   "metadata": {},
   "source": [
    "Its primary role is to iteratively evaluate and assign fitness scores to the candidate solutions.\n",
    "\n",
    "The function takes two important inputs: population, which is a list of Chromosomes representing potential solutions, and trainingData, a dataset containing observed data points that serve as the basis for fitness evaluation.\n",
    "\n",
    "In some cases, the best-fit solution that satisfies the training data is identifies by it."
   ]
  },
  {
   "cell_type": "markdown",
   "id": "f177423c",
   "metadata": {},
   "source": [
    "# part four : Implementation of Crossover and Mutation and the Generation of the Next Generation"
   ]
  },
  {
   "cell_type": "code",
   "execution_count": 8,
   "id": "59c456f6",
   "metadata": {},
   "outputs": [],
   "source": [
    "def performCrossover(matingPool, workingPopulation, consts): \n",
    "    for i in range(0, len(matingPool), 2):\n",
    "        if i == len(matingPool) - 1:\n",
    "            break\n",
    "        if consts.polynomialDegree == 0:\n",
    "            point = 0\n",
    "        else:\n",
    "            point = random.randint(0, consts.polynomialDegree-1)\n",
    "        if random.random() < consts.crossoverProbability:\n",
    "            workingPopulation[i].coefficients = matingPool[i].coefficients[:point] + matingPool[i+1].coefficients[point:]\n",
    "            workingPopulation[i+1].coefficients = matingPool[i+1].coefficients[:point] + matingPool[i].coefficients[point:]"
   ]
  },
  {
   "cell_type": "markdown",
   "id": "1fec1f5b",
   "metadata": {},
   "source": [
    "In genetic algorithms, crossover (also known as recombination) is a genetic operator used to create new individuals (chromosomes) by combining the genetic material of two parent individuals. This process simulates the concept of genetic recombination in biology.\n",
    "\n",
    "\"if i == len(matingPool) - 1: break\", is used to handle the case where the number of parents in the matingPool is odd. In this algorithm, crossover requires an even number of parents, with each pair of parents contributing genetic material to create offspring.\n",
    "\n",
    "The crossoverProbability dictates the occurrence of crossover, with the crossover point being randomly selected. This probability parameter governs the application of one-point crossover to two adjacent chromosomes."
   ]
  },
  {
   "cell_type": "code",
   "execution_count": 9,
   "id": "66e9dace",
   "metadata": {},
   "outputs": [],
   "source": [
    "def applyMutation(workingPopulation, consts): \n",
    "    for chromo in workingPopulation:\n",
    "        if random.random() < consts.mutationProbability:\n",
    "            for i in range(len(chromo.coefficients)):\n",
    "                if random.random() < consts.flipProbability:\n",
    "                    chromo.coefficients[i] = generateRandomCoefficient(consts)\n",
    "            adjust_polynomial_degree(chromo, consts)"
   ]
  },
  {
   "cell_type": "markdown",
   "id": "f79861e8",
   "metadata": {},
   "source": [
    "Bit flip mutation provides a mechanism for introducing small, random changes into the genetic material, which can help the algorithm explore the search space more effectively and escape local optima.\n",
    "\n",
    "When a mutation occurs for specific chromosome, it alters each individual coefficient of the chromosome with specific probability.\n",
    "\n",
    "Each coefficient in a chromosome has a certain probability of being flipped or changed to a random value within the specified coefficient range. This mutation strategy is often used when working with discrete values. \n",
    "The while loop enters when the coefficient of the largest polynomial degree is set to zero in this for loop."
   ]
  },
  {
   "cell_type": "markdown",
   "id": "7742df3d",
   "metadata": {},
   "source": [
    "# part five : Development of a Genetic Algorithm for the Problem"
   ]
  },
  {
   "cell_type": "code",
   "execution_count": 10,
   "id": "4f68499a",
   "metadata": {},
   "outputs": [],
   "source": [
    "def selectTopCandidates(population, eliteCount):\n",
    "    workingPopulation = copy.deepcopy(population)\n",
    "    carriedPool = sorted(workingPopulation, reverse=True, key=lambda chromo: chromo.fitness)\n",
    "    return carriedPool[:eliteCount]"
   ]
  },
  {
   "cell_type": "markdown",
   "id": "a6c847f1",
   "metadata": {},
   "source": [
    "It selects the top-performing individuals (chromosomes) from the population by sorting the populaton according to its individual fitness. Elite individuals are those with the highest fitness values, and they are typically preserved from one generation to the next to ensure that the best solutions are not lost during the evolutionary process."
   ]
  },
  {
   "cell_type": "code",
   "execution_count": 11,
   "id": "152ed552",
   "metadata": {},
   "outputs": [],
   "source": [
    "def selectParents(population):\n",
    "    workingPopulation = population.copy()\n",
    "    matingPool = []\n",
    "    fitnessSum = sum(chromo.fitness for chromo in workingPopulation)\n",
    "    selectionProbabilities = [(chromo.fitness / fitnessSum) for chromo in workingPopulation]\n",
    "    cumulativeProbabilities = list(np.cumsum(selectionProbabilities))\n",
    "    for _ in workingPopulation:\n",
    "        random_value = random.random()\n",
    "        idx = np.searchsorted(cumulativeProbabilities, random_value)\n",
    "        matingPool.append(workingPopulation[idx])\n",
    "    return matingPool"
   ]
  },
  {
   "cell_type": "markdown",
   "id": "752d54d4",
   "metadata": {},
   "source": [
    "This function ensures that chromosomes with higher fitness have a greater chance of being selected as parents, as it uses a probability-based selection approach. This mimics the concept of natural selection, where fitter individuals are more likely to pass on their genes to the next generation.\n",
    "\n",
    "It creates a deep copy of the population. It's important to note that this copy is made to avoid modifying the original population during the selection process.\n",
    "\n",
    "Calculates the sum of fitness values for all individuals in the working population. For each chromosome in the working population, it calculates a probability value by dividing the individual's fitness by the total fitness sum. This reflects the likelihood of each chromosome being selected as a parent.\n",
    "\n",
    "It generates a list called cumulative_probabilities using the accumulate function from the itertools module. Cumulative probabilities are essentially the cumulative sum of selection probabilities. It forms a range from 0 to 1, where each value represents the probability of selecting a chromosome up to that point.\n",
    "\n",
    "\"np.searchsorted(cumulativeProbabilities, random_value)\" performs a binary search on the cumulativeProbabilities list to find the index where random_value would be inserted while maintaining the sorted order. Binary search is chosen for its efficiency and consistency in selecting parents in a genetic algorithm. "
   ]
  },
  {
   "cell_type": "code",
   "execution_count": 12,
   "id": "94aa97b4",
   "metadata": {},
   "outputs": [],
   "source": [
    "def geneticAlgorithm(population, consts, trainingData):\n",
    "    eliteCount = int(consts.eliteSelectionProbability * len(population))\n",
    "    with open('genetic_algorithm_output.txt', 'w') as output_file:\n",
    "        original_stdout = sys.stdout\n",
    "        sys.stdout = output_file\n",
    "        try:\n",
    "            for _ in range(consts.maxGenerations):\n",
    "                carriedPool = selectTopCandidates(population, eliteCount)\n",
    "                matingPool = selectParents(population)\n",
    "\n",
    "                performCrossover(matingPool, population, consts)\n",
    "                applyMutation(population, consts)\n",
    "\n",
    "                population = carriedPool + population[:consts.populationSize - eliteCount]\n",
    "                bestFitnessChromo = evaluateFitness(population, trainingData)\n",
    "\n",
    "                maximumFitnessedChromo = max(population, key=lambda chromo: chromo.fitness)\n",
    "                print(\"epoch: \", _, \"max:  \", \"{:.6f}\".format(maximumFitnessedChromo.fitness))\n",
    "\n",
    "                if bestFitnessChromo.fitness == 1:\n",
    "                    return bestFitnessChromo\n",
    "                random.shuffle(population)\n",
    "        finally:\n",
    "            sys.stdout = original_stdout\n",
    "\n",
    "    return max(population, key=lambda chromo: chromo.fitness)"
   ]
  },
  {
   "cell_type": "markdown",
   "id": "660e5b55",
   "metadata": {},
   "source": [
    "Orchestrates the entire genetic algorithm process, from initializing the population to evolving it over multiple generations. It uses selection, crossover, and mutation to explore the search space and identify the best solution based on the defined fitness function.\n",
    "\n",
    "The eliteSelectionProbability is a constant that determines what proportion of the population is considered elite.\n",
    "The function then enters a loop that runs for a maximum number of generations.\n",
    "+ \"selectTopCandidates\" function is called to identify the elite candidates.\n",
    "\n",
    "+ \"selectParents\" function is called to create a mating pool of potential parent chromosomes based on their fitness.\n",
    "\n",
    "+ \"performCrossover\" function is called to perform crossover operations on the mating pool. Crossover is a genetic operation that combines the genetic material of two parents to create offspring.\n",
    "\n",
    "+ \"applyMutation\" function is called to introduce random mutations into the population. Mutation is a genetic operation that introduces small, random changes to individual chromosomes.\n",
    "\n",
    "+ Then combines the elite candidates (carriedPool) with the non-elite portion of the population to create the new population for the next generation. The non-elite individuals are selected based on their fitness.\n",
    "\n",
    "+ \"evaluateFitness\" function is called to determine the fitness of each chromosome in the population.\n",
    "\n",
    "And finaly the population is shuffled for the next iteraion.\n",
    "\n",
    "Also identifies if there is a best-performing chromosome in the current generation by the if statement above. If there is no best-performing chromosome, it finds the chromosome with the maximum fitness in the last generation."
   ]
  },
  {
   "cell_type": "markdown",
   "id": "bd818cc2",
   "metadata": {},
   "source": [
    "# Testcases\n",
    "these testcases are handwritten. and the amount of maxGeneration and populationSize is set at the common amounts. note that I have included more explanation about this two parameters in Part6.\n",
    "\n",
    "These values are set according to problem Complexity empirical Testing and computational Resources."
   ]
  },
  {
   "cell_type": "code",
   "execution_count": 13,
   "id": "6e394e16",
   "metadata": {},
   "outputs": [],
   "source": [
    "consts = Consts(\n",
    "    maxGenerations = 2000,\n",
    "    populationSize = 200,\n",
    "    coefficientRange = (-12, 12),\n",
    "    polynomialDegree = 7,\n",
    "    eliteSelectionProbability = 0.1,\n",
    "    crossoverProbability = 0.65,\n",
    "    mutationProbability = 0.5,\n",
    "    flipProbability = 0.45\n",
    ")\n",
    "trainingData = [(1, 7), (2, 527), (3, 9723), (0, 9), (-1, 11), (-2, -677), (-3, -12153)]\n",
    "\n",
    "# consts = Consts(\n",
    "#     maxGenerations = 1000,\n",
    "#     populationSize = 100,\n",
    "#     coefficientRange = (-6, 4),\n",
    "#     polynomialDegree = 3,\n",
    "#     eliteSelectionProbability = 0.1,\n",
    "#     crossoverProbability = 0.65,\n",
    "#     mutationProbability = 0.5,\n",
    "#     flipProbability = 0.45\n",
    "# )\n",
    "# trainingData = [(0, 1), (1, 0), (2, -5), (-1, -8)]"
   ]
  },
  {
   "cell_type": "code",
   "execution_count": 14,
   "id": "8bfe6a6b",
   "metadata": {},
   "outputs": [],
   "source": [
    "def plotFittedCurve(coefficients, trainingData):\n",
    "    x = np.array([point[0] for point in trainingData])\n",
    "    y = np.array([point[1] for point in trainingData])\n",
    "    plt.figure()\n",
    "\n",
    "    plt.scatter(x, y, label='Data Points', color='red')\n",
    "    xValues = np.linspace(min(x) - 3, max(x) + 3, 100)\n",
    "    yValues = bestChromosome.evaluatePolynomial(xValues)\n",
    "    plt.plot(xValues, yValues, label='Polynomial Curve and Data Points', color='blue')\n",
    "\n",
    "    plt.xlabel('X-axis')\n",
    "    plt.ylabel('Y-axis')\n",
    "    plt.title('Polynomial Plot')\n",
    "    plt.legend()\n",
    "    plt.grid()\n",
    "    plt.show()"
   ]
  },
  {
   "cell_type": "code",
   "execution_count": 15,
   "id": "601cd1c8",
   "metadata": {},
   "outputs": [],
   "source": [
    "bestChromosome = geneticAlgorithm(initializePopulation(consts, trainingData), consts, trainingData)"
   ]
  },
  {
   "cell_type": "markdown",
   "id": "685a90cd",
   "metadata": {},
   "source": [
    "A message is printed at each iteration to provide insights into the algorithm's progress. I've saved it in a genetic_algorithm_output.txt file. It consists of the current generation number indicated as \"epoch: #\" and the fitness score of the top-performing chromosome, displayed with six decimal places.\n",
    "\n",
    "+ In the early epochs, the maximum fitness observed is quite low, ranging from 0.001715 to 0.005319. This suggests that the initial population of chromosomes doesn't have highly fit individuals. The algorithm is exploring the search space and trying to find better solutions.\n",
    "\n",
    "+ The maximum fitness remains at 0.005319 for several epochs. This could indicate that the algorithm is stuck in a local optima, and it struggles to find better solutions during this period.\n",
    "\n",
    "+ Starting from epoch 18, there is a sudden jump in the maximum fitness to 0.018519. This is a significant improvement, and it indicates that the genetic algorithm has likely found a more promising solution in the search space. This improvement continues until epoch 49.\n",
    "\n",
    "+ After epoch 50, the maximum fitness remains at 0.020000, which is the highest fitness value achieved during this run. This indicates that the genetic algorithm has converged to a solution with a fitness value of 0.020000, and it remains consistent from epoch 50 to 249.\n",
    "\n",
    "+ The algorithm reaches its best solution in epoch 249 with a fitness value of 1.000000. This is often a sign that the genetic algorithm has successfully converged to an optimal or near-optimal solution, as a fitness value of 1.000000 suggests a perfect solution according to evaluation criteria.\n",
    "\n",
    "not that i have wrote these for the file output.txt and for the testcase:\n",
    "consts = Consts(\n",
    "\n",
    "    maxGenerations = 2000,\n",
    "\n",
    "    populationSize = 200,\n",
    "    \n",
    "    coefficientRange = (-12, 12),\n",
    "    \n",
    "    polynomialDegree = 7,\n",
    "    \n",
    "    eliteSelectionProbability = 0.15,\n",
    "    \n",
    "    crossoverProbability = 0.65,\n",
    "    \n",
    "    mutationProbability = 0.5,\n",
    "    \n",
    "    flipProbability = 0.45\n",
    "\n",
    ")\n",
    "\n",
    "trainingData = [(1, 7), (2, 527), (3, 9723), (0, 9), (-1, 11), (-2, -677), (-3, -12153)]"
   ]
  },
  {
   "cell_type": "code",
   "execution_count": 16,
   "id": "70b76dc8",
   "metadata": {},
   "outputs": [
    {
     "name": "stdout",
     "output_type": "stream",
     "text": [
      "best_coefficients found as:     [5, -2, 1, 3, -9, -1, 1, 9]\n",
      "best_fitness is calculated as:  1.0\n"
     ]
    },
    {
     "data": {
      "image/png": "[encoded data removed]",
      "text/plain": [
       "<Figure size 640x480 with 1 Axes>"
      ]
     },
     "metadata": {},
     "output_type": "display_data"
    }
   ],
   "source": [
    "print(\"best_coefficients found as:    \", bestChromosome.coefficients)\n",
    "print(\"best_fitness is calculated as: \", bestChromosome.fitness)\n",
    "\n",
    "# printPolynomial(bestChromosome.coefficients)\n",
    "\n",
    "plotFittedCurve(bestChromosome.coefficients, trainingData)"
   ]
  },
  {
   "cell_type": "markdown",
   "id": "a226c65f",
   "metadata": {},
   "source": [
    "For a clearer view of this picture and its associated curve, it's advisable to zoom in. For example when zooming in, we can see that the amount of x=0 is y=9.\n",
    "\n",
    "The curve seems to fit well, and the printed coefficients match the expected values for the data points.\n",
    "\n",
    "Note that for a better experience of curve fitting in a genetic algorithm, we can adjust the constants carefully."
   ]
  },
  {
   "cell_type": "markdown",
   "id": "1583cb41",
   "metadata": {},
   "source": [
    "# Conclusion\n",
    "The code successfully applies a genetic algorithm to curve fitting. It leverages genetic operators like crossover and mutation to evolve a population of candidate polynomials, ultimately optimizing the polynomial coefficients to fit a given dataset. The genetic algorithm iterates over generations, gradually improving the population's fitness as it was described in this report."
   ]
  },
  {
   "cell_type": "markdown",
   "id": "facfb55a",
   "metadata": {},
   "source": [
    "# part six : Evaluation of Results"
   ]
  },
  {
   "cell_type": "markdown",
   "id": "a623045d",
   "metadata": {},
   "source": [
    "## questions"
   ]
  },
  {
   "cell_type": "markdown",
   "id": "14bcf0e8",
   "metadata": {},
   "source": [
    "### 1. A very low or very high initial population can create what difficulties?"
   ]
  },
  {
   "cell_type": "markdown",
   "id": "1f9b8f75",
   "metadata": {},
   "source": [
    "In a small initial population there are fewer potential solutions to work with. This can lead to premature convergence, where the algorithm quickly settles on suboptimal solutions and fails to explore the search space effectively. Also, With a small population, there are fewer chances for genetic operators like mutation and crossover to create new solutions. This can lead to the algorithm stagnating and getting stuck in local optima, failing to find better solutions.\n",
    "\n",
    "A large initial population requires more computational resources and time to evaluate fitness and perform genetic operations. This can make the algorithm slower and less efficient, especially when dealing with complex problems or limited computing resources. Also, it can lead to redundancy and over-representation of similar solutions. This redundancy can make it harder for the algorithm to identify and exploit the best solutions in the population.\n",
    "Storing a large population consumes more memory."
   ]
  },
  {
   "cell_type": "markdown",
   "id": "b0401cef",
   "metadata": {},
   "source": [
    "### 2. If the population size increases in each iteration, what effect does it have on the accuracy and speed of the algorithm?"
   ]
  },
  {
   "cell_type": "markdown",
   "id": "8c3de090",
   "metadata": {},
   "source": [
    "+ Pos: \n",
    "A larger population provides more diversity and a broader sampling of potential solutions. There's a higher likelihood of finding better solutions, which can lead to increased algorithm accuracy. The algorithm has a better chance of converging to a global optimum or a high-quality solution.\n",
    "\n",
    "+ Neg:\n",
    "Larger populations require more time to evaluate fitness and perform genetic operations, which can slow down the convergence of the algorithm. As the population size grows, the rate of improvement in solutions may diminish. A point can be reached where adding more individuals to the population provides minimal benefits in terms of finding better solutions. The goal is to achieve convergence by retaining the chromosomes that are closer to the desired solution and eliminating those that are farther from it. Adding more individuals in each iteration does not align with our objective of achieving convergence."
   ]
  },
  {
   "cell_type": "markdown",
   "id": "8fcd985c",
   "metadata": {},
   "source": [
    "### 3. Explain and compare the impact of each of the crossover and mutation operations. Can only one of them be used? Why?"
   ]
  },
  {
   "cell_type": "markdown",
   "id": "b801f9ab",
   "metadata": {},
   "source": [
    "Crossover is responsible for combining genetic material from two parent chromosomes to produce one or more offspring.\n",
    "Promotes exploration by creating diversity in the population. It can lead to the discovery of entirely new solutions by combining features from different parents. Crossover is more likely to have a significant impact on the population's genetic diversity over a short period. Can be particularly useful when the population is stuck in a suboptimal region of the search space. It helps escape local optima by combining good features from different individuals.\n",
    "\n",
    "\n",
    "Mutation introduces small, random changes to individual chromosomes. It serves as a source of genetic diversity.\n",
    "It has a more localized impact compared to crossover. It introduces small, random changes to a single chromosome and can lead to incremental improvements in existing solutions.\n",
    "It helps maintain diversity in the population and prevents premature convergence. It can fine-tune solutions and help them adapt to changing conditions. Over time, these small changes can accumulate and contribute to the exploration of the search space.\n",
    "\n",
    "In most cases, it is not advisable to use only one of them. Both crossover and mutation serve important roles in a genetic algorithm:\n",
    "+ Crossover primarily focuses on diversity by creating new combinations of genetic material. In contrast, mutation is more about refinement, making small adjustments to existing solutions. Using both allows the algorithm to balance the need for exploration and exploitation.\n",
    "\n",
    "+ Crossover helps explore the search space, while mutation prevents premature convergence by introducing local exploration. A combination of both operators ensures a more comprehensive exploration of the search space, making it more likely to find a global optimum.\n",
    "\n",
    "+ Crossover can sometimes disrupt good solutions, but mutation can fine-tune them. Combining both operations allows the algorithm to both explore new regions and refine promising solutions.\n",
    "\n",
    "Crossover is done with much higher probability that mutation. The crossover probability is usually at least 80% and the mutation probability is usually at most 5%.\n",
    "If we only use crossover, we may stop at a local maxima, and if we only use mutation, we may not be able to find the best solution as a local extermum cannot be the best solution.\n",
    "Striking the right balance between these two operations is a key aspect of fine-tuning a genetic algorithm for a particular problem."
   ]
  },
  {
   "cell_type": "markdown",
   "id": "c3df6988",
   "metadata": {},
   "source": [
    "### 4. In your opinion, what solutions are available to arrive at a quicker solution to this specific problem?"
   ]
  },
  {
   "cell_type": "markdown",
   "id": "fe9fe228",
   "metadata": {},
   "source": [
    "By fine-tuning the algorithm's parameters, such as population size, crossover and mutation rates, and the number of generations, we can tailor its behavior to better suit the problem at hand.\n",
    "\n",
    "For instance, if you notice that the algorithm's progress has stalled, you can dynamically adjust parameters, like increasing the mutation rate, to promote exploration and overcome stagnation. \n",
    "\n",
    "Additionally, I've incorporated a termination condition within the 'geneticAlgorithm' that halts the loop when the fitness of chromosomes in the new generation reaches the desired threshold, which in this case is set to 1. This condition serves as an early stopping mechanism, allowing the algorithm to exit once it has found a solution meeting the specified criteria. \n",
    "\n",
    "The design and evaluation of the fitness function play a pivotal role in guiding the algorithm toward the desired solutions."
   ]
  },
  {
   "cell_type": "markdown",
   "id": "13e9a5c4",
   "metadata": {},
   "source": [
    "### 5. Despite using these methods, it is still possible for chromosomes to remain unchanged after several more stages. Explain the reason behind this occurrence and the challenges it poses. What suggestions do you have for resolving this issue?"
   ]
  },
  {
   "cell_type": "markdown",
   "id": "ac89fc3a",
   "metadata": {},
   "source": [
    "Reasons for Chromosomes Remaining Unchanged:\n",
    "\n",
    "+ Stagnation can occur when the population lacks genetic diversity. If the initial population or the genetic operators (crossover and mutation) fail to introduce new genetic material, the algorithm becomes trapped in a limited portion of the search space.\n",
    "\n",
    "+ The choice of genetic operators may not be suitable for the problem. Ineffective crossover or mutation operators can fail to generate new solutions or introduce meaningful diversity into the population.\n",
    "\n",
    "+ The population may have already converged to a local optimum, where further improvements are challenging to achieve. This can happen when the algorithm quickly identifies a good solution but fails to explore other regions of the search space.\n",
    "\n",
    "+ Genetic algorithms are inherently stochastic, and random chance can result in populations that remain unchanged for a certain number of generations. Small population sizes can exacerbate this effect."
   ]
  },
  {
   "cell_type": "markdown",
   "id": "9e0f3ba8",
   "metadata": {},
   "source": [
    "Challenges and Issues:\n",
    "\n",
    "+ Stagnation prevents the algorithm from further improving solutions, potentially leading to suboptimal or incomplete results.\n",
    "\n",
    "+ Continually running the algorithm with an unchanging population consumes computational resources without yielding any benefits."
   ]
  },
  {
   "cell_type": "markdown",
   "id": "07e291dd",
   "metadata": {},
   "source": [
    "Suggestions for Resolving Stagnation:\n",
    "\n",
    "+ Ensure that the initial population is diverse, and use genetic operators that introduce variation effectively. Consider using techniques like tournament selection and elitism to maintain diversity.\n",
    "\n",
    "+ Test different crossover and mutation operators to identify those that are more suitable for the problem. Novel operators, such as uniform crossover or non-uniform mutation, can help in certain cases.\n",
    "\n",
    "+ Implement adaptive strategies that monitor the algorithm's progress and adjust parameters, such as mutation rates or population size, to encourage exploration when stagnation is detected.\n",
    "\n",
    "+ Combine the genetic algorithm with other optimization techniques, like local search or simulated annealing, to facilitate exploration and refinement.\n",
    "\n",
    "+ Implement multi-population models, where multiple subpopulations evolve separately and periodically exchange information. This can help introduce diversity.\n",
    "\n",
    "+ Adjust the termination condition to require not only the best fitness to reach a certain threshold but also the population to demonstrate diversity or change over time.\n",
    "\n",
    "+ Periodically restart the algorithm with a different initial population or seed to break out of stagnation.\n",
    "\n",
    "+ Tailor the algorithm to the specific characteristics of the problem. Domain knowledge and custom operators can help overcome stagnation.\n",
    "\n",
    "+ Continuously analyze the algorithm's behavior using profiling tools and diagnostics to identify bottlenecks and areas where it becomes stuck."
   ]
  },
  {
   "cell_type": "markdown",
   "id": "f8d15587",
   "metadata": {},
   "source": [
    "### 6. What solution do you propose for terminating the program if the problem has no solution?"
   ]
  },
  {
   "cell_type": "markdown",
   "id": "6b0f743c",
   "metadata": {},
   "source": [
    "By limiting the number of generations that the algorithm explores."
   ]
  },
  {
   "cell_type": "markdown",
   "id": "930f029d",
   "metadata": {},
   "source": [
    "### 7. As the degree of polynomials increases, how does the time to find the coefficients change?"
   ]
  },
  {
   "cell_type": "markdown",
   "id": "d59700f8",
   "metadata": {},
   "source": [
    "The time it takes to find the coefficients of a polynomial in a genetic algorithm can change significantly as the degree of the polynomial increases. The relationship between the polynomial's degree and the time required to find its coefficients is influenced by various factors:\n",
    "+ As the degree of the polynomial increases, the size of the search space grows exponentially as there are more possible combinations to explore.\n",
    "+ The complexity of the fitness function also increases with the polynomial's degree. Evaluating a higher-degree polynomial involves more calculations, which can slow down the optimization process. But here in this declared fitness, it is just adding, subtracting and dividing."
   ]
  },
  {
   "cell_type": "markdown",
   "id": "39ea9393",
   "metadata": {},
   "source": [
    "### 8. How does increasing or decreasing the number of data points affect the execution of the algorithm, in your opinion?"
   ]
  },
  {
   "cell_type": "markdown",
   "id": "79771362",
   "metadata": {},
   "source": [
    "The number of data points in your dataset affects the execution of the genetic algorithm by influencing the algorithm's computational complexity, solution quality, risk of overfitting or underfitting, and exploration of the search space. The optimal number of data points depends on the specific problem and the balance between computational resources and the need for accurate solutions.\n",
    "\n",
    "Increasing the Number of Data Points:\n",
    "\n",
    "+ A larger dataset with more data points means that the genetic algorithm needs to evaluate the fitness function for a larger number of data points and results in increased computational complexity and longer execution times.\n",
    "\n",
    "+ With more data points, the algorithm has access to a more comprehensive representation of the problem. This can be advantageous for finding accurate solutions, especially when the data provides valuable insights.\n",
    "\n",
    "+ In many cases, a larger dataset provides a more accurate representation of the problem. This can lead to improved solution quality.\n",
    "\n",
    "+ With a large number of data points, there is a risk of overfitting the polynomial to the noise in the data. The algorithm may find solutions that are too specific to the dataset and do not generalize well to unseen data.\n",
    "\n",
    "+ The algorithm may require more exploration of the search space to accommodate the increased data points effectively.\n",
    "\n",
    "Decreasing the Number of Data Points:\n",
    "\n",
    "+ Smaller datasets with fewer data points require less computational effort to evaluate fitness adn results in faster execution times.\n",
    "\n",
    "+ A smaller dataset may not provide enough information for the algorithm to accurately capture the underlying patterns in the data. This can lead to underfitting, where the polynomial fails to fit the data well.\n",
    "\n",
    "+ With fewer data points, the solutions found by the algorithm may be less robust and may not generalize well to a broader range of data. This can result in less accurate models.\n",
    "\n",
    "+ A smaller dataset may lead to quicker convergence, as there is less data to fit. However, this can be a double-edged sword, as quicker convergence might not result in the best solutions.\n",
    "\n",
    "+ With fewer data points, the algorithm may require less exploration of the search space. It may find solutions more quickly but may not discover the global optimum.\n",
    "\n"
   ]
  },
  {
   "cell_type": "code",
   "execution_count": null,
   "id": "a3cbbe59",
   "metadata": {},
   "outputs": [],
   "source": []
  }
 ],
 "metadata": {
  "kernelspec": {
   "display_name": "Python 3 (ipykernel)",
   "language": "python",
   "name": "python3"
  },
  "language_info": {
   "codemirror_mode": {
    "name": "ipython",
    "version": 3
   },
   "file_extension": ".py",
   "mimetype": "text/x-python",
   "name": "python",
   "nbconvert_exporter": "python",
   "pygments_lexer": "ipython3",
   "version": "3.11.0"
  }
 },
 "nbformat": 4,
 "nbformat_minor": 5
}
